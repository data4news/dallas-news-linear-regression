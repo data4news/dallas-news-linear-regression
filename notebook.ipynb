{
 "cells": [
  {
   "cell_type": "markdown",
   "metadata": {},
   "source": [
    "# Notebook - Dallas Morning News Case Study\n",
    "\n",
    "The Dallas Morning News [uncovers a cheating scandal on the TAKS test](http://clipfile.org/?p=754). \n",
    "\n",
    "_note: Try not to consult the clip above unless you're stuck. The clip also doesn't contain all of the answers so there is still plenty to investigate._\n",
    "\n",
    "You're a reporter at the Dallas Morning News in 2005. While talking to some teachers at your local school district, you recieved a tip that a fourth grade classroom at Harrell Budd Elementary in southern Dallas has unusually high test scores in reading on the TAKS test (the state's standardized test to measure student progress). To check out this claim you've downloaded data from the Texas Education Agency. To dig deeper into this, you have acquired records from the district of average standardized TAKS test scores for reading and math for third, fourth and fifth graders for the previous year. You also decide to download the reading scores for 2003.\n",
    "\n",
    "Let's see how the Dallas Morning News used regressions to find evidence of this claim and try to find out if it is an isolated case."
   ]
  },
  {
   "cell_type": "markdown",
   "metadata": {},
   "source": [
    "### Prep work: Downloading necessary files\n",
    "Before we get started, we need to download all of the data we'll be using.\n",
    "* **cfy04e4.dat:** 2004 fourth-grade TAKS scores - standardized test scores for 2004's fourth-graders\n",
    "* **cfy04e5.dat:** 2004 fifth-grade TAKS scores - standardized test scores for 2004's fifth-graders\n",
    "* **cfy04e3.dat:** 2004 third-grade TAKS scores - standardized test scores for 2004's third-graders\n",
    "\n",
    "More data you might want\n",
    "* **cfy03e3.dat:** 2003 third-grade TAKS scores - standardized test scores for 2003's third-graders\n",
    "\n",
    "Data Documentation: \n",
    "https://tea.texas.gov/student-assessment/testing/taks-resources/taks-variables-formats-and-descriptions\n"
   ]
  },
  {
   "cell_type": "code",
   "execution_count": 1,
   "metadata": {},
   "outputs": [],
   "source": [
    "# # Make data directory if it doesn't exist\n",
    "# # (you can remove the comments, run this cell once to download the data, and add the comments back)\n",
    "# !mkdir -p data\n",
    "# !wget -nc https://nyc3.digitaloceanspaces.com/ml-files-distro/v1/dmn-texas-school-cheating/data/cfy04e4.dat -P data\n",
    "# !wget -nc https://nyc3.digitaloceanspaces.com/ml-files-distro/v1/dmn-texas-school-cheating/data/cfy03e3.dat -P data\n",
    "# !wget -nc https://nyc3.digitaloceanspaces.com/ml-files-distro/v1/dmn-texas-school-cheating/data/cfy04e5.dat -P data\n",
    "# !wget -nc https://nyc3.digitaloceanspaces.com/ml-files-distro/v1/dmn-texas-school-cheating/data/cfy04e3.dat -P data"
   ]
  },
  {
   "cell_type": "markdown",
   "metadata": {},
   "source": [
    "### R and Python Imports"
   ]
  },
  {
   "cell_type": "code",
   "execution_count": 2,
   "metadata": {
    "tags": []
   },
   "outputs": [],
   "source": [
    "%reload_ext rpy2.ipython\n",
    "%reload_ext autoreload\n",
    "%autoreload 2\n",
    "\n",
    "%matplotlib inline  \n",
    "from matplotlib import rcParams\n",
    "rcParams['figure.figsize'] = (16, 100)\n",
    "\n",
    "import warnings\n",
    "from rpy2.rinterface import RRuntimeWarning\n",
    "warnings.filterwarnings(\"ignore\") # Ignore all warnings\n",
    "# warnings.filterwarnings(\"ignore\", category=RRuntimeWarning) # Show some warnings"
   ]
  },
  {
   "cell_type": "code",
   "execution_count": 5,
   "metadata": {
    "tags": []
   },
   "outputs": [],
   "source": [
    "%%R\n",
    "\n",
    "require('tidyverse')"
   ]
  },
  {
   "cell_type": "code",
   "execution_count": 4,
   "metadata": {},
   "outputs": [],
   "source": [
    "import pandas as pd\n",
    "import numpy as np\n",
    "\n",
    "# Show a large number of rows and columns when displaying dfs\n",
    "pd.set_option(\"display.max_rows\", 200)\n",
    "pd.set_option(\"display.max_columns\", 200)\n",
    "from IPython.display import display, HTML"
   ]
  },
  {
   "cell_type": "markdown",
   "metadata": {},
   "source": [
    "# Finding suspicious datapoints with linear regression\n",
    "\n",
    "Can we see evidence of possible cheating at Harrell Budd Elementary? Is Harrell Budd Elementary's fourth grade reading classrooms the only place where we see signs of possible cheating in 2004? \n",
    "\n",
    "How else can you design regressions to help you uncover other instances of cheating? \n",
    "\n",
    "In the cells below, try to define your own questions and see if you can uncover other suspicious scores using regressions. You may also want to use plots as necessary. You can start with reading (`r_all_rs`) and math (`m_all_rs`) scores in the data we have loaded, but if you'd like, you're also welcome to bring in other variables from the [data documentation](\n",
    "https://tea.texas.gov/sites/default/files/TAKS-Variables-prior2005.pdf).\n",
    "\n",
    "- If you've got an interesting finding, put up a green sticky note! 🟩\n",
    "- If you're stuck, put up a red sticky note! 🟥"
   ]
  },
  {
   "cell_type": "markdown",
   "metadata": {},
   "source": [
    "## Load the data \n",
    "We'll start by opening up our dataset - standardized test performance at each school. We have:\n",
    "- 3rd 4th and 5th grade reading and math scores for 2004 \n",
    "- 4th grade reading and math scores for 2003"
   ]
  },
  {
   "cell_type": "code",
   "execution_count": 10,
   "metadata": {},
   "outputs": [
    {
     "data": {
      "text/html": [
       "<div>\n",
       "<style scoped>\n",
       "    .dataframe tbody tr th:only-of-type {\n",
       "        vertical-align: middle;\n",
       "    }\n",
       "\n",
       "    .dataframe tbody tr th {\n",
       "        vertical-align: top;\n",
       "    }\n",
       "\n",
       "    .dataframe thead th {\n",
       "        text-align: right;\n",
       "    }\n",
       "</style>\n",
       "<table border=\"1\" class=\"dataframe\">\n",
       "  <thead>\n",
       "    <tr style=\"text-align: right;\">\n",
       "      <th></th>\n",
       "      <th>CAMPUS</th>\n",
       "      <th>r_all_rs_third</th>\n",
       "      <th>m_all_rs_third</th>\n",
       "      <th>r_all_rs_fourth</th>\n",
       "      <th>m_all_rs_fourth</th>\n",
       "      <th>r_all_rs_fifth</th>\n",
       "      <th>m_all_rs_fifth</th>\n",
       "      <th>r_all_rs_fourth_last_year</th>\n",
       "      <th>m_all_rs_fourth_last_year</th>\n",
       "      <th>CNAME</th>\n",
       "    </tr>\n",
       "  </thead>\n",
       "  <tbody>\n",
       "    <tr>\n",
       "      <th>0</th>\n",
       "      <td>1902103</td>\n",
       "      <td>2410.0</td>\n",
       "      <td>2388.0</td>\n",
       "      <td>2392.0</td>\n",
       "      <td>2227.0</td>\n",
       "      <td>2308.0</td>\n",
       "      <td>2317.0</td>\n",
       "      <td>2410.0</td>\n",
       "      <td>2388.0</td>\n",
       "      <td>CAYUGA EL</td>\n",
       "    </tr>\n",
       "    <tr>\n",
       "      <th>1</th>\n",
       "      <td>1903101</td>\n",
       "      <td>2256.0</td>\n",
       "      <td>2208.0</td>\n",
       "      <td>2263.0</td>\n",
       "      <td>2192.0</td>\n",
       "      <td>2193.0</td>\n",
       "      <td>2153.0</td>\n",
       "      <td>2256.0</td>\n",
       "      <td>2208.0</td>\n",
       "      <td>ELKHART EL</td>\n",
       "    </tr>\n",
       "    <tr>\n",
       "      <th>2</th>\n",
       "      <td>1904102</td>\n",
       "      <td>2284.0</td>\n",
       "      <td>2313.0</td>\n",
       "      <td>2242.0</td>\n",
       "      <td>2152.0</td>\n",
       "      <td>2288.0</td>\n",
       "      <td>2256.0</td>\n",
       "      <td>2284.0</td>\n",
       "      <td>2313.0</td>\n",
       "      <td>FRANKSTON EL</td>\n",
       "    </tr>\n",
       "    <tr>\n",
       "      <th>3</th>\n",
       "      <td>1906102</td>\n",
       "      <td>2294.0</td>\n",
       "      <td>2273.0</td>\n",
       "      <td>2218.0</td>\n",
       "      <td>2096.0</td>\n",
       "      <td>2298.0</td>\n",
       "      <td>2312.0</td>\n",
       "      <td>2294.0</td>\n",
       "      <td>2273.0</td>\n",
       "      <td>NECHES EL</td>\n",
       "    </tr>\n",
       "    <tr>\n",
       "      <th>4</th>\n",
       "      <td>1907110</td>\n",
       "      <td>2256.0</td>\n",
       "      <td>2205.0</td>\n",
       "      <td>2200.0</td>\n",
       "      <td>2168.0</td>\n",
       "      <td>2218.0</td>\n",
       "      <td>2269.0</td>\n",
       "      <td>2256.0</td>\n",
       "      <td>2205.0</td>\n",
       "      <td>STORY EL</td>\n",
       "    </tr>\n",
       "    <tr>\n",
       "      <th>...</th>\n",
       "      <td>...</td>\n",
       "      <td>...</td>\n",
       "      <td>...</td>\n",
       "      <td>...</td>\n",
       "      <td>...</td>\n",
       "      <td>...</td>\n",
       "      <td>...</td>\n",
       "      <td>...</td>\n",
       "      <td>...</td>\n",
       "      <td>...</td>\n",
       "    </tr>\n",
       "    <tr>\n",
       "      <th>4232</th>\n",
       "      <td>241904041</td>\n",
       "      <td>NaN</td>\n",
       "      <td>NaN</td>\n",
       "      <td>NaN</td>\n",
       "      <td>NaN</td>\n",
       "      <td>NaN</td>\n",
       "      <td>NaN</td>\n",
       "      <td>NaN</td>\n",
       "      <td>NaN</td>\n",
       "      <td>WHARTON J H</td>\n",
       "    </tr>\n",
       "    <tr>\n",
       "      <th>4233</th>\n",
       "      <td>243902041</td>\n",
       "      <td>NaN</td>\n",
       "      <td>NaN</td>\n",
       "      <td>NaN</td>\n",
       "      <td>NaN</td>\n",
       "      <td>2117.0</td>\n",
       "      <td>2129.0</td>\n",
       "      <td>NaN</td>\n",
       "      <td>NaN</td>\n",
       "      <td>ELECTRA J H</td>\n",
       "    </tr>\n",
       "    <tr>\n",
       "      <th>4234</th>\n",
       "      <td>249905102</td>\n",
       "      <td>NaN</td>\n",
       "      <td>NaN</td>\n",
       "      <td>NaN</td>\n",
       "      <td>NaN</td>\n",
       "      <td>2238.0</td>\n",
       "      <td>2255.0</td>\n",
       "      <td>NaN</td>\n",
       "      <td>NaN</td>\n",
       "      <td>DECATUR INT</td>\n",
       "    </tr>\n",
       "    <tr>\n",
       "      <th>4235</th>\n",
       "      <td>250907041</td>\n",
       "      <td>NaN</td>\n",
       "      <td>NaN</td>\n",
       "      <td>NaN</td>\n",
       "      <td>NaN</td>\n",
       "      <td>2231.0</td>\n",
       "      <td>2241.0</td>\n",
       "      <td>NaN</td>\n",
       "      <td>NaN</td>\n",
       "      <td>MEMORIAL MIDDLE</td>\n",
       "    </tr>\n",
       "    <tr>\n",
       "      <th>4236</th>\n",
       "      <td>251902041</td>\n",
       "      <td>NaN</td>\n",
       "      <td>NaN</td>\n",
       "      <td>NaN</td>\n",
       "      <td>NaN</td>\n",
       "      <td>2194.0</td>\n",
       "      <td>2202.0</td>\n",
       "      <td>NaN</td>\n",
       "      <td>NaN</td>\n",
       "      <td>PLAINS MIDDLE</td>\n",
       "    </tr>\n",
       "  </tbody>\n",
       "</table>\n",
       "<p>4237 rows × 10 columns</p>\n",
       "</div>"
      ],
      "text/plain": [
       "         CAMPUS  r_all_rs_third  m_all_rs_third  r_all_rs_fourth  \\\n",
       "0       1902103          2410.0          2388.0           2392.0   \n",
       "1       1903101          2256.0          2208.0           2263.0   \n",
       "2       1904102          2284.0          2313.0           2242.0   \n",
       "3       1906102          2294.0          2273.0           2218.0   \n",
       "4       1907110          2256.0          2205.0           2200.0   \n",
       "...         ...             ...             ...              ...   \n",
       "4232  241904041             NaN             NaN              NaN   \n",
       "4233  243902041             NaN             NaN              NaN   \n",
       "4234  249905102             NaN             NaN              NaN   \n",
       "4235  250907041             NaN             NaN              NaN   \n",
       "4236  251902041             NaN             NaN              NaN   \n",
       "\n",
       "      m_all_rs_fourth  r_all_rs_fifth  m_all_rs_fifth  \\\n",
       "0              2227.0          2308.0          2317.0   \n",
       "1              2192.0          2193.0          2153.0   \n",
       "2              2152.0          2288.0          2256.0   \n",
       "3              2096.0          2298.0          2312.0   \n",
       "4              2168.0          2218.0          2269.0   \n",
       "...               ...             ...             ...   \n",
       "4232              NaN             NaN             NaN   \n",
       "4233              NaN          2117.0          2129.0   \n",
       "4234              NaN          2238.0          2255.0   \n",
       "4235              NaN          2231.0          2241.0   \n",
       "4236              NaN          2194.0          2202.0   \n",
       "\n",
       "      r_all_rs_fourth_last_year  m_all_rs_fourth_last_year            CNAME  \n",
       "0                        2410.0                     2388.0        CAYUGA EL  \n",
       "1                        2256.0                     2208.0       ELKHART EL  \n",
       "2                        2284.0                     2313.0     FRANKSTON EL  \n",
       "3                        2294.0                     2273.0        NECHES EL  \n",
       "4                        2256.0                     2205.0         STORY EL  \n",
       "...                         ...                        ...              ...  \n",
       "4232                        NaN                        NaN      WHARTON J H  \n",
       "4233                        NaN                        NaN      ELECTRA J H  \n",
       "4234                        NaN                        NaN      DECATUR INT  \n",
       "4235                        NaN                        NaN  MEMORIAL MIDDLE  \n",
       "4236                        NaN                        NaN    PLAINS MIDDLE  \n",
       "\n",
       "[4237 rows x 10 columns]"
      ]
     },
     "execution_count": 10,
     "metadata": {},
     "output_type": "execute_result"
    }
   ],
   "source": [
    "df_third_grade_2004 = pd.read_csv(\"data/cfy04e3.dat\", usecols=['r_all_rs', 'm_all_rs', 'CNAME', 'CAMPUS']).set_index('CAMPUS').add_suffix('_third')\n",
    "df_fourth_grade_2004 = pd.read_csv(\"data/cfy04e4.dat\", usecols=['r_all_rs', 'm_all_rs', 'CNAME', 'CAMPUS']).set_index('CAMPUS').add_suffix('_fourth')\n",
    "df_fifth_grade_2004 = pd.read_csv(\"data/cfy04e5.dat\", usecols=['r_all_rs', 'm_all_rs', 'CNAME', 'CAMPUS']).set_index('CAMPUS').add_suffix('_fifth')\n",
    "\n",
    "# This time I'm also adding fourth grade scores from last year (2003)! \n",
    "df_fourth_grade_2003 = pd.read_csv(\"data/cfy04e3.dat\", usecols=['r_all_rs', 'm_all_rs', 'CNAME', 'CAMPUS']).set_index('CAMPUS').add_suffix('_fourth_last_year')\n",
    "\n",
    "# Combine the above dataframes, remove duplicate columns\n",
    "df = pd.concat([df_third_grade_2004, df_fourth_grade_2004, df_fifth_grade_2004, df_fourth_grade_2003], axis=1)\n",
    "df['CNAME'] = df['CNAME_third'].fillna(df['CNAME_fourth']).fillna(df['CNAME_fifth']).fillna(df['CNAME_fourth_last_year'])\n",
    "df = df.drop(columns=['CNAME_third', 'CNAME_fourth', 'CNAME_fifth', 'CNAME_fourth_last_year'])\n",
    "df = df.reset_index()\n",
    "\n",
    "# display\n",
    "df\n"
   ]
  },
  {
   "cell_type": "code",
   "execution_count": 13,
   "metadata": {},
   "outputs": [
    {
     "data": {
      "text/html": [
       "<div>\n",
       "<style scoped>\n",
       "    .dataframe tbody tr th:only-of-type {\n",
       "        vertical-align: middle;\n",
       "    }\n",
       "\n",
       "    .dataframe tbody tr th {\n",
       "        vertical-align: top;\n",
       "    }\n",
       "\n",
       "    .dataframe thead th {\n",
       "        text-align: right;\n",
       "    }\n",
       "</style>\n",
       "<table border=\"1\" class=\"dataframe\">\n",
       "  <thead>\n",
       "    <tr style=\"text-align: right;\">\n",
       "      <th></th>\n",
       "      <th>CAMPUS</th>\n",
       "      <th>CNAME</th>\n",
       "      <th>test_type</th>\n",
       "      <th>score</th>\n",
       "    </tr>\n",
       "  </thead>\n",
       "  <tbody>\n",
       "    <tr>\n",
       "      <th>0</th>\n",
       "      <td>1902103</td>\n",
       "      <td>CAYUGA EL</td>\n",
       "      <td>r_all_rs_third</td>\n",
       "      <td>2410.0</td>\n",
       "    </tr>\n",
       "    <tr>\n",
       "      <th>1</th>\n",
       "      <td>1903101</td>\n",
       "      <td>ELKHART EL</td>\n",
       "      <td>r_all_rs_third</td>\n",
       "      <td>2256.0</td>\n",
       "    </tr>\n",
       "    <tr>\n",
       "      <th>2</th>\n",
       "      <td>1904102</td>\n",
       "      <td>FRANKSTON EL</td>\n",
       "      <td>r_all_rs_third</td>\n",
       "      <td>2284.0</td>\n",
       "    </tr>\n",
       "    <tr>\n",
       "      <th>3</th>\n",
       "      <td>1906102</td>\n",
       "      <td>NECHES EL</td>\n",
       "      <td>r_all_rs_third</td>\n",
       "      <td>2294.0</td>\n",
       "    </tr>\n",
       "    <tr>\n",
       "      <th>4</th>\n",
       "      <td>1907110</td>\n",
       "      <td>STORY EL</td>\n",
       "      <td>r_all_rs_third</td>\n",
       "      <td>2256.0</td>\n",
       "    </tr>\n",
       "    <tr>\n",
       "      <th>...</th>\n",
       "      <td>...</td>\n",
       "      <td>...</td>\n",
       "      <td>...</td>\n",
       "      <td>...</td>\n",
       "    </tr>\n",
       "    <tr>\n",
       "      <th>33464</th>\n",
       "      <td>253901101</td>\n",
       "      <td>BENAVIDES EL</td>\n",
       "      <td>m_all_rs_fourth_last_year</td>\n",
       "      <td>2189.0</td>\n",
       "    </tr>\n",
       "    <tr>\n",
       "      <th>33465</th>\n",
       "      <td>253901106</td>\n",
       "      <td>ZAPATA SOUTH EL</td>\n",
       "      <td>m_all_rs_fourth_last_year</td>\n",
       "      <td>2253.0</td>\n",
       "    </tr>\n",
       "    <tr>\n",
       "      <th>33466</th>\n",
       "      <td>253901107</td>\n",
       "      <td>ZAPATA CENTRAL</td>\n",
       "      <td>m_all_rs_fourth_last_year</td>\n",
       "      <td>2178.0</td>\n",
       "    </tr>\n",
       "    <tr>\n",
       "      <th>33467</th>\n",
       "      <td>254901105</td>\n",
       "      <td>LORENZO DE ZAVA</td>\n",
       "      <td>m_all_rs_fourth_last_year</td>\n",
       "      <td>2180.0</td>\n",
       "    </tr>\n",
       "    <tr>\n",
       "      <th>33468</th>\n",
       "      <td>254902101</td>\n",
       "      <td>LA PRYOR EL</td>\n",
       "      <td>m_all_rs_fourth_last_year</td>\n",
       "      <td>2159.0</td>\n",
       "    </tr>\n",
       "  </tbody>\n",
       "</table>\n",
       "<p>29308 rows × 4 columns</p>\n",
       "</div>"
      ],
      "text/plain": [
       "          CAMPUS            CNAME                  test_type   score\n",
       "0        1902103        CAYUGA EL             r_all_rs_third  2410.0\n",
       "1        1903101       ELKHART EL             r_all_rs_third  2256.0\n",
       "2        1904102     FRANKSTON EL             r_all_rs_third  2284.0\n",
       "3        1906102        NECHES EL             r_all_rs_third  2294.0\n",
       "4        1907110         STORY EL             r_all_rs_third  2256.0\n",
       "...          ...              ...                        ...     ...\n",
       "33464  253901101     BENAVIDES EL  m_all_rs_fourth_last_year  2189.0\n",
       "33465  253901106  ZAPATA SOUTH EL  m_all_rs_fourth_last_year  2253.0\n",
       "33466  253901107   ZAPATA CENTRAL  m_all_rs_fourth_last_year  2178.0\n",
       "33467  254901105  LORENZO DE ZAVA  m_all_rs_fourth_last_year  2180.0\n",
       "33468  254902101      LA PRYOR EL  m_all_rs_fourth_last_year  2159.0\n",
       "\n",
       "[29308 rows x 4 columns]"
      ]
     },
     "execution_count": 13,
     "metadata": {},
     "output_type": "execute_result"
    }
   ],
   "source": [
    "# Here is the dataframe above in long format if you'd prefer it that way!\n",
    "df_long = df.melt(id_vars=['CAMPUS', 'CNAME'], var_name='test_type', value_name='score').dropna()\n",
    "df_long"
   ]
  },
  {
   "cell_type": "markdown",
   "metadata": {},
   "source": [
    "# Questions and Answers\n",
    "\n",
    "Present your findings in this seciton. Keep exploratory code in the scratchpad notebook. \n",
    "\n",
    "> _💡 Hint: want to keep this file clean? You can hide away code in functions in `.py` files or `.R` files and just the functions from those files here._"
   ]
  },
  {
   "cell_type": "markdown",
   "metadata": {},
   "source": [
    "### Question 1: Do we see suspicious activity at Harrell Budd Elementary?\n",
    "- 👉 Hypothesis (journalistic): We expect to see suspicious activity at Harrell Budd Elementary.\n",
    "- 👉 Methodology:"
   ]
  },
  {
   "cell_type": "code",
   "execution_count": 17,
   "metadata": {
    "tags": []
   },
   "outputs": [],
   "source": [
    "# TKTK Code In the Cells Below"
   ]
  },
  {
   "cell_type": "code",
   "execution_count": null,
   "metadata": {},
   "outputs": [],
   "source": []
  },
  {
   "cell_type": "code",
   "execution_count": null,
   "metadata": {},
   "outputs": [],
   "source": []
  },
  {
   "cell_type": "code",
   "execution_count": null,
   "metadata": {},
   "outputs": [],
   "source": []
  },
  {
   "cell_type": "code",
   "execution_count": null,
   "metadata": {},
   "outputs": [],
   "source": []
  },
  {
   "cell_type": "code",
   "execution_count": null,
   "metadata": {},
   "outputs": [],
   "source": []
  },
  {
   "cell_type": "code",
   "execution_count": null,
   "metadata": {},
   "outputs": [],
   "source": []
  },
  {
   "cell_type": "code",
   "execution_count": null,
   "metadata": {},
   "outputs": [],
   "source": []
  },
  {
   "cell_type": "code",
   "execution_count": null,
   "metadata": {},
   "outputs": [],
   "source": []
  },
  {
   "cell_type": "code",
   "execution_count": null,
   "metadata": {},
   "outputs": [],
   "source": []
  },
  {
   "cell_type": "code",
   "execution_count": null,
   "metadata": {},
   "outputs": [],
   "source": []
  },
  {
   "cell_type": "markdown",
   "metadata": {},
   "source": [
    "#### Answer To Question 1\n",
    "👉 Write your answer to Question 1 in the cells below. Feel free to include charts as needed. Use complete sentences. Think of this as an internal memo to your editor. They don't have time to sift through a bunch of exploratory analysis, so leave irrelevant info out of your answer"
   ]
  },
  {
   "cell_type": "code",
   "execution_count": 14,
   "metadata": {
    "tags": []
   },
   "outputs": [],
   "source": [
    "# Your answer goes here"
   ]
  },
  {
   "cell_type": "code",
   "execution_count": null,
   "metadata": {},
   "outputs": [],
   "source": []
  },
  {
   "cell_type": "code",
   "execution_count": null,
   "metadata": {},
   "outputs": [],
   "source": []
  },
  {
   "cell_type": "markdown",
   "metadata": {},
   "source": [
    "### Question 2: Do we see suspicious activity at other schools?\n",
    "- 👉 Hypothesis (journalistic): This isn't an isolated phenomenon. Other schools may be doing the same. We aim to identify schools that seem suspicious like Herrald Budd Elementary.\n",
    "- 👉 Methodology:\n"
   ]
  },
  {
   "cell_type": "code",
   "execution_count": null,
   "metadata": {},
   "outputs": [],
   "source": []
  },
  {
   "cell_type": "code",
   "execution_count": null,
   "metadata": {},
   "outputs": [],
   "source": []
  },
  {
   "cell_type": "code",
   "execution_count": null,
   "metadata": {},
   "outputs": [],
   "source": []
  },
  {
   "cell_type": "code",
   "execution_count": null,
   "metadata": {},
   "outputs": [],
   "source": []
  },
  {
   "cell_type": "code",
   "execution_count": null,
   "metadata": {},
   "outputs": [],
   "source": []
  },
  {
   "cell_type": "code",
   "execution_count": null,
   "metadata": {},
   "outputs": [],
   "source": []
  },
  {
   "cell_type": "code",
   "execution_count": null,
   "metadata": {},
   "outputs": [],
   "source": []
  },
  {
   "cell_type": "code",
   "execution_count": null,
   "metadata": {},
   "outputs": [],
   "source": []
  },
  {
   "cell_type": "markdown",
   "metadata": {},
   "source": [
    "#### Answer To Question 2\n",
    "👉 Write your answer to Question 2 in the cells below. Feel free to include charts as needed. Use complete sentences. Think of this as an internal memo to your editor. They don't have time to sift through a bunch of exploratory analysis, so leave irrelevant info out of your answer"
   ]
  },
  {
   "cell_type": "code",
   "execution_count": 16,
   "metadata": {
    "tags": []
   },
   "outputs": [],
   "source": [
    "# Your Answer Goes here"
   ]
  },
  {
   "cell_type": "code",
   "execution_count": null,
   "metadata": {},
   "outputs": [],
   "source": []
  },
  {
   "cell_type": "code",
   "execution_count": null,
   "metadata": {},
   "outputs": [],
   "source": []
  },
  {
   "cell_type": "code",
   "execution_count": null,
   "metadata": {},
   "outputs": [],
   "source": []
  },
  {
   "cell_type": "code",
   "execution_count": null,
   "metadata": {},
   "outputs": [],
   "source": []
  },
  {
   "cell_type": "code",
   "execution_count": null,
   "metadata": {},
   "outputs": [],
   "source": []
  },
  {
   "cell_type": "markdown",
   "metadata": {},
   "source": [
    "# Bonus 🤖 (very very optional)\n",
    "\n",
    "This loads a giant dataframe with all of the columns from 2004 (there are 2827 columns 😲). \n",
    "\n",
    "Here is the documentation for those columns:\n",
    "https://tea.texas.gov/sites/default/files/TAKS-Variables-prior2005.pdf\n",
    "\n",
    "How would you use the additional data? What variables will you target first? Design more statstical inquiry that takes advantage of the full dataset."
   ]
  },
  {
   "cell_type": "code",
   "execution_count": null,
   "metadata": {},
   "outputs": [],
   "source": [
    "df_third_grade_2004 = pd.read_csv(\"data/cfy04e3.dat\").set_index('CAMPUS').assign(grade='third')\n",
    "df_fourth_grade_2004 = pd.read_csv(\"data/cfy04e4.dat\").set_index('CAMPUS').assign(grade='fourth')\n",
    "df_fifth_grade_2004 = pd.read_csv(\"data/cfy04e5.dat\").set_index('CAMPUS').assign(grade='fifth')\n",
    "\n",
    "df_2004 = pd.concat([df_third_grade_2004, df_fourth_grade_2004, df_fifth_grade_2004])\n",
    "df_2004"
   ]
  },
  {
   "cell_type": "code",
   "execution_count": null,
   "metadata": {},
   "outputs": [],
   "source": []
  },
  {
   "cell_type": "code",
   "execution_count": null,
   "metadata": {},
   "outputs": [],
   "source": []
  },
  {
   "cell_type": "code",
   "execution_count": null,
   "metadata": {},
   "outputs": [],
   "source": []
  },
  {
   "cell_type": "code",
   "execution_count": null,
   "metadata": {},
   "outputs": [],
   "source": []
  },
  {
   "cell_type": "code",
   "execution_count": null,
   "metadata": {},
   "outputs": [],
   "source": []
  },
  {
   "cell_type": "code",
   "execution_count": null,
   "metadata": {},
   "outputs": [],
   "source": []
  },
  {
   "cell_type": "code",
   "execution_count": null,
   "metadata": {},
   "outputs": [],
   "source": []
  },
  {
   "cell_type": "code",
   "execution_count": null,
   "metadata": {},
   "outputs": [],
   "source": []
  },
  {
   "cell_type": "code",
   "execution_count": null,
   "metadata": {},
   "outputs": [],
   "source": []
  }
 ],
 "metadata": {
  "kernelspec": {
   "display_name": "Python 3 (ipykernel)",
   "language": "python",
   "name": "python3"
  },
  "language_info": {
   "codemirror_mode": {
    "name": "ipython",
    "version": 3
   },
   "file_extension": ".py",
   "mimetype": "text/x-python",
   "name": "python",
   "nbconvert_exporter": "python",
   "pygments_lexer": "ipython3",
   "version": "3.11.2"
  },
  "toc": {
   "base_numbering": 1,
   "nav_menu": {},
   "number_sections": true,
   "sideBar": true,
   "skip_h1_title": false,
   "title_cell": "Table of Contents",
   "title_sidebar": "Contents",
   "toc_cell": false,
   "toc_position": {},
   "toc_section_display": true,
   "toc_window_display": false
  }
 },
 "nbformat": 4,
 "nbformat_minor": 4
}
